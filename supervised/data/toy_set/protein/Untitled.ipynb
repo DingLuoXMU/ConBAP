{
 "cells": [
  {
   "cell_type": "code",
   "execution_count": 5,
   "id": "a8e5ac9b-e085-4ff7-b71f-2cdcbf481e4f",
   "metadata": {},
   "outputs": [],
   "source": [
    "import shutil\n",
    "original_pdb = '3VW9.pdb'\n",
    "\n",
    "x_range = range(1,13)\n",
    "y_range = range(1,6)\n",
    "\n",
    "for x in x_range:\n",
    "    for y in y_range:\n",
    "        new_pdb = f'{x}_{y}_protein.pdb'\n",
    "        shutil.copy(original_pdb,new_pdb)"
   ]
  },
  {
   "cell_type": "code",
   "execution_count": null,
   "id": "db0e4ff9-64c3-48c8-89d2-0a238a1119a5",
   "metadata": {},
   "outputs": [],
   "source": []
  }
 ],
 "metadata": {
  "kernelspec": {
   "display_name": "conbap",
   "language": "python",
   "name": "conbap"
  },
  "language_info": {
   "codemirror_mode": {
    "name": "ipython",
    "version": 3
   },
   "file_extension": ".py",
   "mimetype": "text/x-python",
   "name": "python",
   "nbconvert_exporter": "python",
   "pygments_lexer": "ipython3",
   "version": "3.8.19"
  }
 },
 "nbformat": 4,
 "nbformat_minor": 5
}
